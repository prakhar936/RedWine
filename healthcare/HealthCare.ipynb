{
 "cells": [
  {
   "cell_type": "code",
   "execution_count": 33,
   "id": "cc3b141b",
   "metadata": {},
   "outputs": [],
   "source": [
    "import numpy as np\n",
    "import pandas as pd\n",
    "import matplotlib.pyplot as plt\n",
    "import seaborn as sns\n",
    "from sklearn.preprocessing import LabelEncoder\n",
    "from sklearn.model_selection import train_test_split as tt\n",
    "from sklearn.linear_model import LogisticRegression as lr\n",
    "from sklearn.neighbors import KNeighborsClassifier as knn\n",
    "from sklearn.tree import DecisionTreeClassifier as dt\n",
    "from sklearn.ensemble import RandomForestClassifier as rf\n",
    "from sklearn.svm import SVC\n",
    "from sklearn.naive_bayes import GaussianNB\n",
    "from sklearn.model_selection import cross_val_score"
   ]
  },
  {
   "cell_type": "code",
   "execution_count": 2,
   "id": "67457f0e",
   "metadata": {},
   "outputs": [
    {
     "name": "stdout",
     "output_type": "stream",
     "text": [
      "(10000, 15)\n",
      "(10000, 15)\n"
     ]
    }
   ],
   "source": [
    "df = pd.read_csv(r\"C:\\Users\\91936\\Desktop\\wine and healthcare\\healthcare\\healthcare_dataset.csv\")\n",
    "print(df.shape)\n",
    "df.drop_duplicates(inplace = True)\n",
    "print(df.shape)"
   ]
  },
  {
   "cell_type": "code",
   "execution_count": 3,
   "id": "b9256393",
   "metadata": {},
   "outputs": [
    {
     "data": {
      "text/html": [
       "<div>\n",
       "<style scoped>\n",
       "    .dataframe tbody tr th:only-of-type {\n",
       "        vertical-align: middle;\n",
       "    }\n",
       "\n",
       "    .dataframe tbody tr th {\n",
       "        vertical-align: top;\n",
       "    }\n",
       "\n",
       "    .dataframe thead th {\n",
       "        text-align: right;\n",
       "    }\n",
       "</style>\n",
       "<table border=\"1\" class=\"dataframe\">\n",
       "  <thead>\n",
       "    <tr style=\"text-align: right;\">\n",
       "      <th></th>\n",
       "      <th>Name</th>\n",
       "      <th>Age</th>\n",
       "      <th>Gender</th>\n",
       "      <th>Blood Type</th>\n",
       "      <th>Medical Condition</th>\n",
       "      <th>Date of Admission</th>\n",
       "      <th>Doctor</th>\n",
       "      <th>Hospital</th>\n",
       "      <th>Insurance Provider</th>\n",
       "      <th>Billing Amount</th>\n",
       "      <th>Room Number</th>\n",
       "      <th>Admission Type</th>\n",
       "      <th>Discharge Date</th>\n",
       "      <th>Medication</th>\n",
       "      <th>Test Results</th>\n",
       "    </tr>\n",
       "  </thead>\n",
       "  <tbody>\n",
       "    <tr>\n",
       "      <th>0</th>\n",
       "      <td>Tiffany Ramirez</td>\n",
       "      <td>81</td>\n",
       "      <td>Female</td>\n",
       "      <td>O-</td>\n",
       "      <td>Diabetes</td>\n",
       "      <td>2022-11-17</td>\n",
       "      <td>Patrick Parker</td>\n",
       "      <td>Wallace-Hamilton</td>\n",
       "      <td>Medicare</td>\n",
       "      <td>37490.983364</td>\n",
       "      <td>146</td>\n",
       "      <td>Elective</td>\n",
       "      <td>2022-12-01</td>\n",
       "      <td>Aspirin</td>\n",
       "      <td>Inconclusive</td>\n",
       "    </tr>\n",
       "    <tr>\n",
       "      <th>1</th>\n",
       "      <td>Ruben Burns</td>\n",
       "      <td>35</td>\n",
       "      <td>Male</td>\n",
       "      <td>O+</td>\n",
       "      <td>Asthma</td>\n",
       "      <td>2023-06-01</td>\n",
       "      <td>Diane Jackson</td>\n",
       "      <td>Burke, Griffin and Cooper</td>\n",
       "      <td>UnitedHealthcare</td>\n",
       "      <td>47304.064845</td>\n",
       "      <td>404</td>\n",
       "      <td>Emergency</td>\n",
       "      <td>2023-06-15</td>\n",
       "      <td>Lipitor</td>\n",
       "      <td>Normal</td>\n",
       "    </tr>\n",
       "    <tr>\n",
       "      <th>2</th>\n",
       "      <td>Chad Byrd</td>\n",
       "      <td>61</td>\n",
       "      <td>Male</td>\n",
       "      <td>B-</td>\n",
       "      <td>Obesity</td>\n",
       "      <td>2019-01-09</td>\n",
       "      <td>Paul Baker</td>\n",
       "      <td>Walton LLC</td>\n",
       "      <td>Medicare</td>\n",
       "      <td>36874.896997</td>\n",
       "      <td>292</td>\n",
       "      <td>Emergency</td>\n",
       "      <td>2019-02-08</td>\n",
       "      <td>Lipitor</td>\n",
       "      <td>Normal</td>\n",
       "    </tr>\n",
       "    <tr>\n",
       "      <th>3</th>\n",
       "      <td>Antonio Frederick</td>\n",
       "      <td>49</td>\n",
       "      <td>Male</td>\n",
       "      <td>B-</td>\n",
       "      <td>Asthma</td>\n",
       "      <td>2020-05-02</td>\n",
       "      <td>Brian Chandler</td>\n",
       "      <td>Garcia Ltd</td>\n",
       "      <td>Medicare</td>\n",
       "      <td>23303.322092</td>\n",
       "      <td>480</td>\n",
       "      <td>Urgent</td>\n",
       "      <td>2020-05-03</td>\n",
       "      <td>Penicillin</td>\n",
       "      <td>Abnormal</td>\n",
       "    </tr>\n",
       "    <tr>\n",
       "      <th>4</th>\n",
       "      <td>Mrs. Brandy Flowers</td>\n",
       "      <td>51</td>\n",
       "      <td>Male</td>\n",
       "      <td>O-</td>\n",
       "      <td>Arthritis</td>\n",
       "      <td>2021-07-09</td>\n",
       "      <td>Dustin Griffin</td>\n",
       "      <td>Jones, Brown and Murray</td>\n",
       "      <td>UnitedHealthcare</td>\n",
       "      <td>18086.344184</td>\n",
       "      <td>477</td>\n",
       "      <td>Urgent</td>\n",
       "      <td>2021-08-02</td>\n",
       "      <td>Paracetamol</td>\n",
       "      <td>Normal</td>\n",
       "    </tr>\n",
       "  </tbody>\n",
       "</table>\n",
       "</div>"
      ],
      "text/plain": [
       "                  Name  Age  Gender Blood Type Medical Condition  \\\n",
       "0      Tiffany Ramirez   81  Female         O-          Diabetes   \n",
       "1          Ruben Burns   35    Male         O+            Asthma   \n",
       "2            Chad Byrd   61    Male         B-           Obesity   \n",
       "3    Antonio Frederick   49    Male         B-            Asthma   \n",
       "4  Mrs. Brandy Flowers   51    Male         O-         Arthritis   \n",
       "\n",
       "  Date of Admission          Doctor                   Hospital  \\\n",
       "0        2022-11-17  Patrick Parker           Wallace-Hamilton   \n",
       "1        2023-06-01   Diane Jackson  Burke, Griffin and Cooper   \n",
       "2        2019-01-09      Paul Baker                 Walton LLC   \n",
       "3        2020-05-02  Brian Chandler                 Garcia Ltd   \n",
       "4        2021-07-09  Dustin Griffin    Jones, Brown and Murray   \n",
       "\n",
       "  Insurance Provider  Billing Amount  Room Number Admission Type  \\\n",
       "0           Medicare    37490.983364          146       Elective   \n",
       "1   UnitedHealthcare    47304.064845          404      Emergency   \n",
       "2           Medicare    36874.896997          292      Emergency   \n",
       "3           Medicare    23303.322092          480         Urgent   \n",
       "4   UnitedHealthcare    18086.344184          477         Urgent   \n",
       "\n",
       "  Discharge Date   Medication  Test Results  \n",
       "0     2022-12-01      Aspirin  Inconclusive  \n",
       "1     2023-06-15      Lipitor        Normal  \n",
       "2     2019-02-08      Lipitor        Normal  \n",
       "3     2020-05-03   Penicillin      Abnormal  \n",
       "4     2021-08-02  Paracetamol        Normal  "
      ]
     },
     "execution_count": 3,
     "metadata": {},
     "output_type": "execute_result"
    }
   ],
   "source": [
    "df.head()"
   ]
  },
  {
   "cell_type": "code",
   "execution_count": 4,
   "id": "86e305eb",
   "metadata": {},
   "outputs": [],
   "source": [
    "df.drop(['Name','Date of Admission','Room Number','Discharge Date','Insurance Provider'],axis = 1,inplace = True)"
   ]
  },
  {
   "cell_type": "code",
   "execution_count": 5,
   "id": "5cc871ed",
   "metadata": {},
   "outputs": [
    {
     "name": "stdout",
     "output_type": "stream",
     "text": [
      "Age\n",
      "68\n",
      "\n",
      "Gender\n",
      "2\n",
      "\n",
      "Blood Type\n",
      "8\n",
      "\n",
      "Medical Condition\n",
      "6\n",
      "\n",
      "Doctor\n",
      "9416\n",
      "\n",
      "Hospital\n",
      "8639\n",
      "\n",
      "Billing Amount\n",
      "10000\n",
      "\n",
      "Admission Type\n",
      "3\n",
      "\n",
      "Medication\n",
      "5\n",
      "\n",
      "Test Results\n",
      "3\n",
      "\n"
     ]
    }
   ],
   "source": [
    "for j in df.columns:\n",
    "    print(j)\n",
    "    print(df[j].nunique())\n",
    "    print()"
   ]
  },
  {
   "cell_type": "markdown",
   "id": "8bfe205a",
   "metadata": {},
   "source": [
    "As there are too many Hospitals and Doctors there can't be any pattern with them "
   ]
  },
  {
   "cell_type": "code",
   "execution_count": 6,
   "id": "988568eb",
   "metadata": {},
   "outputs": [],
   "source": [
    "df.drop(['Doctor','Hospital'],axis =1,inplace = True)"
   ]
  },
  {
   "cell_type": "code",
   "execution_count": 7,
   "id": "70fa6bc1",
   "metadata": {},
   "outputs": [
    {
     "data": {
      "text/html": [
       "<div>\n",
       "<style scoped>\n",
       "    .dataframe tbody tr th:only-of-type {\n",
       "        vertical-align: middle;\n",
       "    }\n",
       "\n",
       "    .dataframe tbody tr th {\n",
       "        vertical-align: top;\n",
       "    }\n",
       "\n",
       "    .dataframe thead th {\n",
       "        text-align: right;\n",
       "    }\n",
       "</style>\n",
       "<table border=\"1\" class=\"dataframe\">\n",
       "  <thead>\n",
       "    <tr style=\"text-align: right;\">\n",
       "      <th></th>\n",
       "      <th>Age</th>\n",
       "      <th>Gender</th>\n",
       "      <th>Blood Type</th>\n",
       "      <th>Medical Condition</th>\n",
       "      <th>Billing Amount</th>\n",
       "      <th>Admission Type</th>\n",
       "      <th>Medication</th>\n",
       "      <th>Test Results</th>\n",
       "    </tr>\n",
       "  </thead>\n",
       "  <tbody>\n",
       "    <tr>\n",
       "      <th>0</th>\n",
       "      <td>81</td>\n",
       "      <td>Female</td>\n",
       "      <td>O-</td>\n",
       "      <td>Diabetes</td>\n",
       "      <td>37490.983364</td>\n",
       "      <td>Elective</td>\n",
       "      <td>Aspirin</td>\n",
       "      <td>Inconclusive</td>\n",
       "    </tr>\n",
       "    <tr>\n",
       "      <th>1</th>\n",
       "      <td>35</td>\n",
       "      <td>Male</td>\n",
       "      <td>O+</td>\n",
       "      <td>Asthma</td>\n",
       "      <td>47304.064845</td>\n",
       "      <td>Emergency</td>\n",
       "      <td>Lipitor</td>\n",
       "      <td>Normal</td>\n",
       "    </tr>\n",
       "    <tr>\n",
       "      <th>2</th>\n",
       "      <td>61</td>\n",
       "      <td>Male</td>\n",
       "      <td>B-</td>\n",
       "      <td>Obesity</td>\n",
       "      <td>36874.896997</td>\n",
       "      <td>Emergency</td>\n",
       "      <td>Lipitor</td>\n",
       "      <td>Normal</td>\n",
       "    </tr>\n",
       "    <tr>\n",
       "      <th>3</th>\n",
       "      <td>49</td>\n",
       "      <td>Male</td>\n",
       "      <td>B-</td>\n",
       "      <td>Asthma</td>\n",
       "      <td>23303.322092</td>\n",
       "      <td>Urgent</td>\n",
       "      <td>Penicillin</td>\n",
       "      <td>Abnormal</td>\n",
       "    </tr>\n",
       "    <tr>\n",
       "      <th>4</th>\n",
       "      <td>51</td>\n",
       "      <td>Male</td>\n",
       "      <td>O-</td>\n",
       "      <td>Arthritis</td>\n",
       "      <td>18086.344184</td>\n",
       "      <td>Urgent</td>\n",
       "      <td>Paracetamol</td>\n",
       "      <td>Normal</td>\n",
       "    </tr>\n",
       "  </tbody>\n",
       "</table>\n",
       "</div>"
      ],
      "text/plain": [
       "   Age  Gender Blood Type Medical Condition  Billing Amount Admission Type  \\\n",
       "0   81  Female         O-          Diabetes    37490.983364       Elective   \n",
       "1   35    Male         O+            Asthma    47304.064845      Emergency   \n",
       "2   61    Male         B-           Obesity    36874.896997      Emergency   \n",
       "3   49    Male         B-            Asthma    23303.322092         Urgent   \n",
       "4   51    Male         O-         Arthritis    18086.344184         Urgent   \n",
       "\n",
       "    Medication  Test Results  \n",
       "0      Aspirin  Inconclusive  \n",
       "1      Lipitor        Normal  \n",
       "2      Lipitor        Normal  \n",
       "3   Penicillin      Abnormal  \n",
       "4  Paracetamol        Normal  "
      ]
     },
     "execution_count": 7,
     "metadata": {},
     "output_type": "execute_result"
    }
   ],
   "source": [
    "df.head()"
   ]
  },
  {
   "cell_type": "code",
   "execution_count": 8,
   "id": "9c0da42b",
   "metadata": {},
   "outputs": [],
   "source": [
    "df[['Gender','Blood Type','Medical Condition','Admission Type','Medication','Test Results']]=df[['Gender','Blood Type','Medical Condition','Admission Type','Medication','Test Results']].apply(LabelEncoder().fit_transform) "
   ]
  },
  {
   "cell_type": "code",
   "execution_count": 9,
   "id": "621bbd71",
   "metadata": {},
   "outputs": [
    {
     "data": {
      "text/html": [
       "<div>\n",
       "<style scoped>\n",
       "    .dataframe tbody tr th:only-of-type {\n",
       "        vertical-align: middle;\n",
       "    }\n",
       "\n",
       "    .dataframe tbody tr th {\n",
       "        vertical-align: top;\n",
       "    }\n",
       "\n",
       "    .dataframe thead th {\n",
       "        text-align: right;\n",
       "    }\n",
       "</style>\n",
       "<table border=\"1\" class=\"dataframe\">\n",
       "  <thead>\n",
       "    <tr style=\"text-align: right;\">\n",
       "      <th></th>\n",
       "      <th>Age</th>\n",
       "      <th>Gender</th>\n",
       "      <th>Blood Type</th>\n",
       "      <th>Medical Condition</th>\n",
       "      <th>Billing Amount</th>\n",
       "      <th>Admission Type</th>\n",
       "      <th>Medication</th>\n",
       "      <th>Test Results</th>\n",
       "    </tr>\n",
       "  </thead>\n",
       "  <tbody>\n",
       "    <tr>\n",
       "      <th>0</th>\n",
       "      <td>81</td>\n",
       "      <td>0</td>\n",
       "      <td>7</td>\n",
       "      <td>3</td>\n",
       "      <td>37490.983364</td>\n",
       "      <td>0</td>\n",
       "      <td>0</td>\n",
       "      <td>1</td>\n",
       "    </tr>\n",
       "    <tr>\n",
       "      <th>1</th>\n",
       "      <td>35</td>\n",
       "      <td>1</td>\n",
       "      <td>6</td>\n",
       "      <td>1</td>\n",
       "      <td>47304.064845</td>\n",
       "      <td>1</td>\n",
       "      <td>2</td>\n",
       "      <td>2</td>\n",
       "    </tr>\n",
       "    <tr>\n",
       "      <th>2</th>\n",
       "      <td>61</td>\n",
       "      <td>1</td>\n",
       "      <td>5</td>\n",
       "      <td>5</td>\n",
       "      <td>36874.896997</td>\n",
       "      <td>1</td>\n",
       "      <td>2</td>\n",
       "      <td>2</td>\n",
       "    </tr>\n",
       "    <tr>\n",
       "      <th>3</th>\n",
       "      <td>49</td>\n",
       "      <td>1</td>\n",
       "      <td>5</td>\n",
       "      <td>1</td>\n",
       "      <td>23303.322092</td>\n",
       "      <td>2</td>\n",
       "      <td>4</td>\n",
       "      <td>0</td>\n",
       "    </tr>\n",
       "    <tr>\n",
       "      <th>4</th>\n",
       "      <td>51</td>\n",
       "      <td>1</td>\n",
       "      <td>7</td>\n",
       "      <td>0</td>\n",
       "      <td>18086.344184</td>\n",
       "      <td>2</td>\n",
       "      <td>3</td>\n",
       "      <td>2</td>\n",
       "    </tr>\n",
       "  </tbody>\n",
       "</table>\n",
       "</div>"
      ],
      "text/plain": [
       "   Age  Gender  Blood Type  Medical Condition  Billing Amount  Admission Type  \\\n",
       "0   81       0           7                  3    37490.983364               0   \n",
       "1   35       1           6                  1    47304.064845               1   \n",
       "2   61       1           5                  5    36874.896997               1   \n",
       "3   49       1           5                  1    23303.322092               2   \n",
       "4   51       1           7                  0    18086.344184               2   \n",
       "\n",
       "   Medication  Test Results  \n",
       "0           0             1  \n",
       "1           2             2  \n",
       "2           2             2  \n",
       "3           4             0  \n",
       "4           3             2  "
      ]
     },
     "execution_count": 9,
     "metadata": {},
     "output_type": "execute_result"
    }
   ],
   "source": [
    "df.head()"
   ]
  },
  {
   "cell_type": "code",
   "execution_count": 11,
   "id": "29803d61",
   "metadata": {},
   "outputs": [
    {
     "data": {
      "image/png": "[encoded data removed]",
      "text/plain": [
       "<Figure size 640x480 with 2 Axes>"
      ]
     },
     "metadata": {},
     "output_type": "display_data"
    }
   ],
   "source": [
    "sns.heatmap(df.corr(),annot = True)\n",
    "plt.show()"
   ]
  },
  {
   "cell_type": "code",
   "execution_count": 20,
   "id": "dcff39ba",
   "metadata": {},
   "outputs": [],
   "source": [
    "x = df.drop('Test Results',axis = 1)\n",
    "y = df['Test Results']"
   ]
  },
  {
   "cell_type": "code",
   "execution_count": 21,
   "id": "b5c5562b",
   "metadata": {},
   "outputs": [],
   "source": [
    "x_train,x_test,y_train,y_test = tt(x,y,random_state = 42)"
   ]
  },
  {
   "cell_type": "code",
   "execution_count": 25,
   "id": "55db04ab",
   "metadata": {},
   "outputs": [
    {
     "data": {
      "text/plain": [
       "0.3532"
      ]
     },
     "execution_count": 25,
     "metadata": {},
     "output_type": "execute_result"
    }
   ],
   "source": [
    "algo1 = lr()\n",
    "algo1.fit(x_train,y_train)\n",
    "y_pred1 = algo1.predict(x_test)\n",
    "algo1.score(x_test,y_test)"
   ]
  },
  {
   "cell_type": "code",
   "execution_count": 35,
   "id": "acd444a4",
   "metadata": {},
   "outputs": [
    {
     "data": {
      "image/png": "[encoded data removed]",
      "text/plain": [
       "<Figure size 640x480 with 1 Axes>"
      ]
     },
     "metadata": {},
     "output_type": "display_data"
    },
    {
     "name": "stdout",
     "output_type": "stream",
     "text": [
      "[0.33320000000000005, 0.3428, 0.3426666666666667, 0.33493333333333336, 0.34186666666666665, 0.3406666666666667, 0.3425333333333333, 0.33466666666666667, 0.3364, 0.3336, 0.33866666666666667, 0.33453333333333335, 0.3404, 0.3356]\n"
     ]
    }
   ],
   "source": [
    "x_axis = []\n",
    "y_axis = []\n",
    "\n",
    "for i in range(1,15):\n",
    "    k = knn(n_neighbors = i)\n",
    "    score = cross_val_score(k,x_train,y_train)\n",
    "    \n",
    "    x_axis.append(i)\n",
    "    y_axis.append(score.mean())\n",
    "    \n",
    "plt.plot(x_axis,y_axis)\n",
    "plt.show()\n",
    "print(y_axis)"
   ]
  },
  {
   "cell_type": "code",
   "execution_count": 37,
   "id": "49815c80",
   "metadata": {},
   "outputs": [
    {
     "name": "stdout",
     "output_type": "stream",
     "text": [
      "0.328\n"
     ]
    }
   ],
   "source": [
    "algo2 = knn(n_neighbors = 8)\n",
    "algo2.fit(x_train,y_train)\n",
    "y_pred2 = algo2.predict(x_test)\n",
    "score = cross_val_score(algo2,x_test,y_test)\n",
    "print(score.mean())"
   ]
  },
  {
   "cell_type": "code",
   "execution_count": 40,
   "id": "cafd0c03",
   "metadata": {},
   "outputs": [
    {
     "data": {
      "text/plain": [
       "0.34"
      ]
     },
     "execution_count": 40,
     "metadata": {},
     "output_type": "execute_result"
    }
   ],
   "source": [
    "algo3 = dt()\n",
    "algo3.fit(x_train,y_train)\n",
    "y_pred3 = algo3.predict(x_test)\n",
    "algo3.score(x_test,y_test)"
   ]
  },
  {
   "cell_type": "code",
   "execution_count": 45,
   "id": "88d78501",
   "metadata": {},
   "outputs": [
    {
     "data": {
      "text/plain": [
       "0.3476"
      ]
     },
     "execution_count": 45,
     "metadata": {},
     "output_type": "execute_result"
    }
   ],
   "source": [
    "algo4 = rf()\n",
    "algo4.fit(x_train,y_train)\n",
    "y_pred4 = algo4.predict(x_test)\n",
    "algo4.score(x_test,y_test)"
   ]
  },
  {
   "cell_type": "code",
   "execution_count": 47,
   "id": "2a983eed",
   "metadata": {},
   "outputs": [
    {
     "data": {
      "text/plain": [
       "0.3364"
      ]
     },
     "execution_count": 47,
     "metadata": {},
     "output_type": "execute_result"
    }
   ],
   "source": [
    "algo5 = SVC()\n",
    "algo5.fit(x_train,y_train)\n",
    "algo5.score(x_test,y_test)"
   ]
  },
  {
   "cell_type": "code",
   "execution_count": null,
   "id": "116b89a1",
   "metadata": {},
   "outputs": [],
   "source": []
  }
 ],
 "metadata": {
  "kernelspec": {
   "display_name": "Python 3 (ipykernel)",
   "language": "python",
   "name": "python3"
  },
  "language_info": {
   "codemirror_mode": {
    "name": "ipython",
    "version": 3
   },
   "file_extension": ".py",
   "mimetype": "text/x-python",
   "name": "python",
   "nbconvert_exporter": "python",
   "pygments_lexer": "ipython3",
   "version": "3.11.5"
  }
 },
 "nbformat": 4,
 "nbformat_minor": 5
}
